{
 "cells": [
  {
   "cell_type": "code",
   "execution_count": 1,
   "id": "e1ba578b-3f6e-4bef-98eb-98658e52d299",
   "metadata": {},
   "outputs": [],
   "source": [
    "# Q1. What is Abstraction in OOps? Explain with an example.\n",
    "# Ans1 = Abstraction is the way to define service to the user and not showing implemntation just like cell here give \n",
    "# two button red and green here is red working to cut the call and green is working to pick the call but what was the implementation\n",
    "# in the code how is code written.and one more think just importing code file to some where but what is the use but i don't know what is the\n",
    "# code written in the file. Ex. just like car here is many part of just like engine and accelerator .when engine is start and car runing and\n",
    "# the user taking acclerator car going to the speed\n"
   ]
  },
  {
   "cell_type": "code",
   "execution_count": null,
   "id": "5ebee069-7bd9-4dcc-ad58-6b6355c53fd5",
   "metadata": {},
   "outputs": [],
   "source": [
    "# Q2. Differentiate between Abstraction and Encapsulation. Explain with an example.\n",
    "# Ans 2 Abstraction is the to import a file to another location and encapsultion is the way to just hide important\n",
    "# details from the user .Example Encapsulation\n",
    "class Bank_check:\n",
    "    def __init__(self,balance):\n",
    "        self.__balance=balance\n",
    "    def deposit(self,amount):\n",
    "        self.__balance=self.__balance+amount\n",
    "    def withdraw(self,amount):\n",
    "        if self.__balance>=amount:\n",
    "            self.__balance=self.__balance-amount\n",
    "            return True\n",
    "        else:\n",
    "            return \"here is Ensuficent balance\"\n",
    "    def get_balance(self):\n",
    "        return self.__balance\n",
    "harsh=Bank_check(5000)\n",
    "\n",
    "harsh.withdraw(399)\n",
    "harsh.get_balance()\n",
    "\n",
    "from abc import ABC, abstractmethod\n",
    "# Example Abstraction\n",
    "class Animal(ABC):\n",
    "    @abstractmethod\n",
    "    def make_sound(self):\n",
    "        pass\n",
    "\n",
    "class Dog(Animal):\n",
    "    def make_sound(self):\n",
    "        return \"Woof!\"\n",
    "\n",
    "class Cat(Animal):\n",
    "    def make_sound(self):\n",
    "        return \"Meow!\"\n",
    "\n",
    "# Example usage:\n",
    "dog = Dog()\n",
    "print(dog.make_sound())  # Output: \"Woof!\"\n",
    "\n",
    "cat = Cat()\n",
    "print(cat.make_sound())  # Output: \"Meow!\"\n"
   ]
  },
  {
   "cell_type": "code",
   "execution_count": null,
   "id": "71e42cc2-a3e5-4594-83c8-56cd052a3459",
   "metadata": {},
   "outputs": [],
   "source": [
    "# Q3. What is abc module in python? Why is it used?\n",
    "# Ans 2=Data abstraction is the process of hiding the implementation details of a\n",
    "# data structure and exposing only the necessary information to the user"
   ]
  },
  {
   "cell_type": "code",
   "execution_count": 2,
   "id": "7863c356-0def-4431-b616-710fb156822e",
   "metadata": {},
   "outputs": [],
   "source": [
    "# Q4. How can we achieve data abstraction?\n",
    "# Ans 4 =There are several ways to achieve data abstraction:\n",
    "# Encapsulation ,Polymorphism, Inheritance\n"
   ]
  },
  {
   "cell_type": "code",
   "execution_count": null,
   "id": "3070b3b4-66c7-4a97-a692-f80c272aded7",
   "metadata": {},
   "outputs": [],
   "source": [
    "# Q5  Q5. Can we create an instance of an abstract class? Explain your answer.\n",
    "# Ans 5 = No, we cannot create an instance of an abstract class directly, \n",
    "# as it has at least one abstract method that is not implemented. However, we can create a concrete subclass that extends \n",
    "# the abstract class and implements all the abstract methods,\n",
    "# and we can then create an instance of that subclass."
   ]
  }
 ],
 "metadata": {
  "kernelspec": {
   "display_name": "Python 3 (ipykernel)",
   "language": "python",
   "name": "python3"
  },
  "language_info": {
   "codemirror_mode": {
    "name": "ipython",
    "version": 3
   },
   "file_extension": ".py",
   "mimetype": "text/x-python",
   "name": "python",
   "nbconvert_exporter": "python",
   "pygments_lexer": "ipython3",
   "version": "3.10.6"
  }
 },
 "nbformat": 4,
 "nbformat_minor": 5
}
